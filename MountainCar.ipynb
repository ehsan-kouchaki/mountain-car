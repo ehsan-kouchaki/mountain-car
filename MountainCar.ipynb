{
 "cells": [
  {
   "cell_type": "markdown",
   "metadata": {},
   "source": [
    "# Control of mountain car using defferential semi-gradient Sarsa with tiling\n",
    "# by Ehsan Kouchaki\n"
   ]
  },
  {
   "cell_type": "code",
   "execution_count": null,
   "metadata": {},
   "outputs": [],
   "source": [
    "import gym\n",
    "import numpy as np\n",
    "env = gym.make(\"MountainCar-v0\")\n",
    "import time"
   ]
  },
  {
   "cell_type": "markdown",
   "metadata": {},
   "source": [
    "# Tiling Code from Sutton: http://incompleteideas.net/tiles/tiles3.py-remove"
   ]
  },
  {
   "cell_type": "code",
   "execution_count": null,
   "metadata": {
    "tags": []
   },
   "outputs": [],
   "source": [
    "basehash = hash\n",
    "\n",
    "class IHT:\n",
    "    \"Structure to handle collisions\"\n",
    "    def __init__(self, sizeval):\n",
    "        self.size = sizeval                        \n",
    "        self.overfullCount = 0\n",
    "        self.dictionary = {}\n",
    "\n",
    "    def __str__(self):\n",
    "        \"Prepares a string for printing whenever this object is printed\"\n",
    "        return \"Collision table:\" + \\\n",
    "               \" size:\" + str(self.size) + \\\n",
    "               \" overfullCount:\" + str(self.overfullCount) + \\\n",
    "               \" dictionary:\" + str(len(self.dictionary)) + \" items\"\n",
    "\n",
    "    def count (self):\n",
    "        return len(self.dictionary)\n",
    "    \n",
    "    def fullp (self):\n",
    "        return len(self.dictionary) >= self.size\n",
    "    \n",
    "    def getindex (self, obj, readonly=False):\n",
    "        d = self.dictionary\n",
    "        if obj in d: return d[obj]\n",
    "        elif readonly: return None\n",
    "        size = self.size\n",
    "        count = self.count()\n",
    "        if count >= size:\n",
    "            if self.overfullCount==0: print('IHT full, starting to allow collisions')\n",
    "            self.overfullCount += 1\n",
    "            return basehash(obj) % self.size\n",
    "        else:\n",
    "            d[obj] = count\n",
    "            return count\n",
    "\n",
    "def hashcoords(coordinates, m, readonly=False):\n",
    "    if type(m)==IHT: return m.getindex(tuple(coordinates), readonly)\n",
    "    if type(m)==int: return basehash(tuple(coordinates)) % m\n",
    "    if m==None: return coordinates\n",
    "\n",
    "from math import floor, log\n",
    "from itertools import zip_longest\n",
    "\n",
    "def tiles (ihtORsize, numtilings, floats, ints=[], readonly=False):\n",
    "    \"\"\"returns num-tilings tile indices corresponding to the floats and ints\"\"\"\n",
    "    qfloats = [floor(f*numtilings) for f in floats]\n",
    "    Tiles = []\n",
    "    for tiling in range(numtilings):\n",
    "        tilingX2 = tiling*2\n",
    "        coords = [tiling]\n",
    "        b = tiling\n",
    "        for q in qfloats:\n",
    "            coords.append( (q + b) // numtilings )\n",
    "            b += tilingX2\n",
    "        coords.extend(ints)\n",
    "        Tiles.append(hashcoords(coords, ihtORsize, readonly))\n",
    "    return Tiles"
   ]
  },
  {
   "cell_type": "markdown",
   "metadata": {},
   "source": [
    "# Train"
   ]
  },
  {
   "cell_type": "code",
   "execution_count": null,
   "metadata": {},
   "outputs": [],
   "source": [
    "d = 4096\n",
    "W = np.zeros((d))\n",
    "X = np.zeros((d))\n",
    "TilingNum = 8            #number of tilings\n",
    "alpha = 0.1/TilingNum    # step size\n",
    "gamma = 1\n",
    "q_hat = np.zeros((3))\n",
    "iht=IHT(d)\n",
    "\n",
    "stability = 0\n",
    "for ep in range(500):\n",
    "    state = env.reset()    \n",
    "    for ac in range(3):\n",
    "        feature_idx = tiles(iht, TilingNum, [TilingNum*state[0]/(0.5+1.2),\n",
    "                                             TilingNum*state[1]/(0.07+0.07)], [ac])\n",
    "        for i in range(len(feature_idx)):\n",
    "            q_hat[ac] += W[feature_idx[i]]            \n",
    "    action = np.argmax(q_hat)\n",
    "    if stability > 20:\n",
    "        print('\\n The learning prosecc terminated in episode number: ', ep, 'step number: ', step)\n",
    "        break\n",
    "    step = 0        \n",
    "    while True:\n",
    "        step += 1\n",
    "        state_prim, R, done, _ = env.step(action)        \n",
    "        delta = R - q_hat[action]\n",
    "        alpha_delta = alpha * delta\n",
    "        \n",
    "        Feature_idx = tiles(iht, TilingNum, [TilingNum*state[0]/(0.5+1.2),\n",
    "                                             TilingNum*state[1]/(0.07+0.07)], [action])\n",
    "        if done == True:       # if we are in terminal state\n",
    "            X = np.zeros((d))\n",
    "            for i in range(len(Feature_idx)):\n",
    "                X[Feature_idx[i]] = 1            \n",
    "            W += alpha_delta * X\n",
    "            if step < 200:\n",
    "                stability += 1\n",
    "            else:\n",
    "                stability = 0\n",
    "            print(env.step(action), 'step = ', step)\n",
    "            \n",
    "            break\n",
    "            \n",
    "        q_hat = np.zeros((3))\n",
    "        for ac in range(3):\n",
    "            feature_idx = tiles(iht, TilingNum, [TilingNum*state_prim[0]/(0.5+1.2),\n",
    "                                                 TilingNum*state_prim[1]/(0.07+0.07)], [ac])\n",
    "            for i in range(len(feature_idx)):\n",
    "                q_hat[ac] += W[feature_idx[i]]            \n",
    "        action = np.argmax(q_hat)\n",
    "        delta += gamma*np.max(q_hat)\n",
    "        alpha_delta = alpha * delta\n",
    "        for i in range(len(Feature_idx)):\n",
    "            W[Feature_idx[i]] += alpha_delta\n",
    "        state = state_prim\n"
   ]
  },
  {
   "cell_type": "markdown",
   "metadata": {},
   "source": [
    "# Test"
   ]
  },
  {
   "cell_type": "code",
   "execution_count": null,
   "metadata": {},
   "outputs": [],
   "source": [
    "for ep in range(20):\n",
    "    state = env.reset()    \n",
    "    step = 0\n",
    "    while True:\n",
    "        step += 1\n",
    "        env.render()\n",
    "        time. sleep(.01)\n",
    "        state_prim, R, done, _ = env.step(action) \n",
    "        \n",
    "        Feature_idx = tiles(iht, TilingNum, [TilingNum*state[0]/(0.5+1.2),\n",
    "                                             TilingNum*state[1]/(0.07+0.07)], [action])\n",
    "        if done == True:       # if we are in terminal state\n",
    "            print('The state in episode: ', ep + 1, 'is: ', env.step(action), 'step = ', step)\n",
    "            break\n",
    "            \n",
    "        q_hat = np.zeros((3))\n",
    "        for ac in range(3):\n",
    "            feature_idx = tiles(iht, TilingNum, [TilingNum*state_prim[0]/(0.5+1.2),\n",
    "                                                 TilingNum*state_prim[1]/(0.07+0.07)], [ac])\n",
    "            for i in range(len(feature_idx)):\n",
    "                q_hat[ac] += W[feature_idx[i]]            \n",
    "        action = np.argmax(q_hat)\n",
    "        state = state_prim\n",
    "env.close()"
   ]
  }
 ],
 "metadata": {
  "kernelspec": {
   "display_name": "Python 3",
   "language": "python",
   "name": "python3"
  },
  "language_info": {
   "codemirror_mode": {
    "name": "ipython",
    "version": 3
   },
   "file_extension": ".py",
   "mimetype": "text/x-python",
   "name": "python",
   "nbconvert_exporter": "python",
   "pygments_lexer": "ipython3",
   "version": "3.8.8"
  }
 },
 "nbformat": 4,
 "nbformat_minor": 4
}
